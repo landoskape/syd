{
 "cells": [
  {
   "cell_type": "markdown",
   "metadata": {},
   "source": [
    "This example showcases best practices for loading data into a Syd Viewer. \n",
    "\n",
    "It gives three examples for different contexts related to how much data is loaded and how long it takes to load. "
   ]
  },
  {
   "cell_type": "code",
   "execution_count": 1,
   "metadata": {},
   "outputs": [],
   "source": [
    "try:\n",
    "    import google.colab\n",
    "    # We're in Colab\n",
    "    !pip install git+https://github.com/landoskape/syd.git\n",
    "\n",
    "except ImportError:\n",
    "    pass"
   ]
  },
  {
   "cell_type": "code",
   "execution_count": 2,
   "metadata": {},
   "outputs": [],
   "source": [
    "%matplotlib inline\n",
    "\n",
    "import numpy as np\n",
    "import matplotlib.pyplot as plt\n",
    "from syd import make_viewer, Viewer"
   ]
  },
  {
   "cell_type": "code",
   "execution_count": 3,
   "metadata": {},
   "outputs": [],
   "source": [
    "# Let's create a toy dataset to create syd viewers from.\n",
    "# It's called dataset_on_disk because we're pretending it's a large file on disk.\n",
    "# Here, we create 10 datasets, each with 100 samples and 10000 timepoints (your data will probably be more complex!)\n",
    "num_datasets = 10\n",
    "num_samples = 100\n",
    "num_timepoints = 10000\n",
    "dataset_on_disk = [np.random.randn(num_samples, num_timepoints) for _ in range(num_datasets)]\n",
    "\n",
    "# Let's create a dataset loading function that will simulate loading data from a large file on disk.\n",
    "# I recognize that this is a bit of a contrived example, but it's just for demonstration --\n",
    "# you can imagine that load_dataset does some heavy dataloading (e.g. with np.load) and even \n",
    "# handles preprocessing of the data.\n",
    "def load_dataset(dataset_index):\n",
    "    return dataset_on_disk[dataset_index]"
   ]
  },
  {
   "cell_type": "markdown",
   "metadata": {},
   "source": [
    "## Option 1: Preload the data into memory and access it as a global variable\n",
    "\n",
    "When to use this option?\n",
    "Option 1 is best when you have a small dataset and you want to make a quick viewer. \n",
    "\n",
    "For example, if you plan to use a jupyter notebook to explore your data and you know that you'll have some result\n",
    "processed in the working memory of the notebook, you can make a viewer like this.\n",
    "\n",
    "Option 1 is useful for simple viewers - especially ones for just taking a look at the data without\n",
    "complex processing etc. "
   ]
  },
  {
   "cell_type": "code",
   "execution_count": null,
   "metadata": {},
   "outputs": [],
   "source": [
    "# Option 1: Preload the data into memory and access it as a global variable\n",
    "dataset = [load_dataset(i) for i in range(num_datasets)]\n",
    "\n",
    "# Make the plot function after preloading the data into memory -- \n",
    "# It'll know to use the \"dataset\" variable to get the data.\n",
    "def plot(state):\n",
    "    c_data = dataset[state[\"dataset_index\"]]\n",
    "    c_sample = c_data[state[\"sample_index\"]]\n",
    "    fig = plt.figure(figsize=(4, 4))\n",
    "    ax = plt.gca()\n",
    "    ax.plot(c_sample)\n",
    "    return fig\n",
    "\n",
    "# Make the viewer -- notice that we don't need to pass in the dataset variable anywhere,\n",
    "# it's defined globally and referenced in the plot function.\n",
    "viewer = make_viewer(plot)\n",
    "viewer.add_integer(\"dataset_index\", value=0, min=0, max=num_datasets - 1)\n",
    "viewer.add_integer(\"sample_index\", value=0, min=0, max=num_samples - 1)\n",
    "viewer.show()"
   ]
  },
  {
   "cell_type": "markdown",
   "metadata": {},
   "source": [
    "## Option 1a: Preload the data into memory using a delayed cache and access it as a global variable\n",
    "\n",
    "When to use this option?\n",
    "Option 1a is good for simple viewers but where the dataloading takes a long time _and_ you might not want to look at all of it.\n",
    "\n",
    "So, load it on-demand with a cache!\n",
    "\n",
    "Note:\n",
    "There are many ways to implement a cache in python, I'll just show a simple \"manual\" example here. For more complex cases, consider\n",
    "options like joblib, dask, etc."
   ]
  },
  {
   "cell_type": "code",
   "execution_count": null,
   "metadata": {},
   "outputs": [],
   "source": [
    "# Option 1a: Preload the data into memory using a delayed cache and access it as a global variable\n",
    "dataset_cache = [None] * num_datasets\n",
    "def load_dataset_cached(dataset_index):\n",
    "    # Only reloads the dataset if it's not already in the cache\n",
    "    if dataset_cache[dataset_index] is None:\n",
    "        dataset_cache[dataset_index] = load_dataset(dataset_index)\n",
    "    return dataset_cache[dataset_index]\n",
    "\n",
    "# Make the plot function after defining your cached loader.\n",
    "# It'll know to use the cached loader whenever it's called.\n",
    "def plot(state):\n",
    "    c_data = load_dataset_cached(state[\"dataset_index\"])\n",
    "    c_sample = c_data[state[\"sample_index\"]]\n",
    "    fig = plt.figure(figsize=(4, 4))\n",
    "    ax = plt.gca()\n",
    "    ax.plot(c_sample)\n",
    "    return fig\n",
    "\n",
    "# Make the viewer -- notice that we don't need to pass in the \"load_dataset_cached\" function anywhere,\n",
    "# it's defined globally and referenced in the plot function.\n",
    "viewer = make_viewer(plot)\n",
    "viewer.add_integer(\"dataset_index\", value=0, min=0, max=num_datasets - 1)\n",
    "viewer.add_integer(\"sample_index\", value=0, min=0, max=num_samples - 1)\n",
    "viewer.show()"
   ]
  },
  {
   "cell_type": "markdown",
   "metadata": {},
   "source": [
    "## Option 2: Load the data as an attribute to a viewer class\n",
    "\n",
    "When to use this option?\n",
    "Creating a class for your viewer with data as attributes is great for more complex viewers that need to do some \n",
    "post-processing of the data or for when the data takes a long time to load and you want to preserve it while \n",
    "potentially making other updates."
   ]
  },
  {
   "cell_type": "code",
   "execution_count": null,
   "metadata": {},
   "outputs": [],
   "source": [
    "# Option 2: Load the data as an attribute to a viewer class\n",
    "class ViewerWithData(Viewer):\n",
    "    def __init__(self):\n",
    "        # In the object constructor, we load the data as an attribute. \n",
    "        # This way the data is \"ready\" once you've created the viewer object.\n",
    "        self.dataset = [load_dataset(i) for i in range(num_datasets)]\n",
    "\n",
    "        self.add_integer(\"dataset_index\", value=0, min=0, max=num_datasets - 1)\n",
    "        self.add_integer(\"sample_index\", value=0, min=0, max=num_samples - 1)\n",
    "\n",
    "    def filter_data(self, c_sample):\n",
    "        # You might want to do some processing of the data here. Filtering is fast, but\n",
    "        # can be slow if you have a lot of data. Filtering on-demand is a great way to \n",
    "        # get good quick viewer performance while not having to load and filter the data\n",
    "        # upfront!! (You can imagine this is useful for all kinds of data processing!)\n",
    "        return c_sample[c_sample > 0]\n",
    "        \n",
    "    def plot(self, state):\n",
    "        # Now that we're using the class version -- self.dataset is available from the plot function.\n",
    "        c_data = self.dataset[state[\"dataset_index\"]]\n",
    "        c_sample = c_data[state[\"sample_index\"]]\n",
    "        filtered_sample = self.filter_data(c_sample)\n",
    "        fig = plt.figure(figsize=(4, 4))\n",
    "        ax = plt.gca()\n",
    "        ax.plot(filtered_sample)\n",
    "        return fig\n",
    "\n",
    "# Now make the viewer object --- this will load the data as an attribute.\n",
    "viewer = ViewerWithData()\n",
    "\n",
    "# And now show the viewer!\n",
    "viewer.show()"
   ]
  },
  {
   "cell_type": "markdown",
   "metadata": {},
   "source": [
    "## Using the jupyter reload extension\n",
    "One of the great things about jupyter notebooks is the autoreload extension. I use it all the time to improve my viewers as I work on them. Problem is - if the data takes a long time to load, but you want to iterate on plot functions, you don't want to keep reloading the data every time you make a change to the plot function. So, a workflow:\n",
    "\n",
    "1. Create your viewer class in a module that you can import from. Then, create an instance of the viewer class in one cell. \n",
    "2. Deploy it in a second cell.\n",
    "3. Make changes to the viewer class in the module.\n",
    "    - Try it yourself, you can change the filter function, change the color of the plot, etc etc. \n",
    "    - Doesn't have to be specifically to the plot function (but it has to be downstream of the object construction). \n",
    "4. Re-deploy the second cell (without recreating the viewer object in the first cell!).\n",
    "5. See your changes show up without reloading the data!!!\n",
    "\n",
    "\n",
    "**Note: this one won't work in colab, clone the repo and run it locally to test it out!**"
   ]
  },
  {
   "cell_type": "code",
   "execution_count": 7,
   "metadata": {},
   "outputs": [],
   "source": [
    "# Set up the autoreload extension\n",
    "%reload_ext autoreload\n",
    "%autoreload 2\n",
    "\n",
    "# Import the viewer class\n",
    "from example_viewer import ViewerWithData\n",
    "\n",
    "# Create an instance of the viewer class -- this will load the data\n",
    "viewer = ViewerWithData()"
   ]
  },
  {
   "cell_type": "code",
   "execution_count": null,
   "metadata": {},
   "outputs": [],
   "source": [
    "# In a second cell, deploy the viewer\n",
    "viewer.show()\n",
    "\n",
    "# You can now make changes to the viewer class in the \"example_viewer.py\" module and see them show up here\n",
    "# without reloading the data by rerunning this cell!"
   ]
  },
  {
   "cell_type": "markdown",
   "metadata": {},
   "source": [
    "## Some extra notes:\n",
    "- You can combine the class version with the delayed cache version! Just make sure that you implement the cached loading\n",
    "  in the class. See below for an example:"
   ]
  },
  {
   "cell_type": "code",
   "execution_count": 11,
   "metadata": {},
   "outputs": [],
   "source": [
    "# This won't work -- it's just to show how to implement cached loading in a class!\n",
    "class ViewerWithData(Viewer):\n",
    "    def __init__(self, num_datasets):\n",
    "        self.dataset = [None] * num_datasets\n",
    "\n",
    "        # .. syd parameters ..\n",
    "\n",
    "    def get_dataset(self, dataset_index):\n",
    "        if self.dataset[dataset_index] is None:\n",
    "            self.dataset[dataset_index] = load_dataset(dataset_index)\n",
    "        return self.dataset[dataset_index]\n",
    "\n",
    "    def plot(self, state):\n",
    "        c_data = self.get_dataset(state[\"dataset_index\"])\n",
    "        # .. plotting code .."
   ]
  },
  {
   "cell_type": "markdown",
   "metadata": {},
   "source": [
    "## Some extra notes:\n",
    "- It's great to use dictionaries to store data for cached loaders...."
   ]
  },
  {
   "cell_type": "code",
   "execution_count": 12,
   "metadata": {},
   "outputs": [],
   "source": [
    "# This won't work -- it's just to show how to implement cached loading in a class!\n",
    "class ViewerWithData(Viewer):\n",
    "    def __init__(self, names_of_datasets_you_might_want_to_load):\n",
    "        self.dataset_names = names_of_datasets_you_might_want_to_load\n",
    "        self.dataset = {name: None for name in self.dataset_names}\n",
    "\n",
    "        # .. syd parameters ..\n",
    "\n",
    "    def get_dataset(self, dataset_name):\n",
    "        if self.dataset[dataset_name] is None:\n",
    "            self.dataset[dataset_name] = load_dataset(dataset_name)\n",
    "        return self.dataset[dataset_name]\n",
    "\n",
    "    def plot(self, state):\n",
    "        c_data = self.get_dataset(state[\"dataset_name\"])\n",
    "        # .. plotting code .."
   ]
  }
 ],
 "metadata": {
  "kernelspec": {
   "display_name": "syd",
   "language": "python",
   "name": "python3"
  },
  "language_info": {
   "codemirror_mode": {
    "name": "ipython",
    "version": 3
   },
   "file_extension": ".py",
   "mimetype": "text/x-python",
   "name": "python",
   "nbconvert_exporter": "python",
   "pygments_lexer": "ipython3",
   "version": "3.11.11"
  }
 },
 "nbformat": 4,
 "nbformat_minor": 2
}

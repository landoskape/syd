{
 "cells": [
  {
   "cell_type": "markdown",
   "metadata": {},
   "source": [
    "# Histology Viewer\n",
    "This example shows you how to use Syd to create an interactive histology viewer. \n",
    "Syd is not at all a replacement for more powerful software like ImageJ, but it is a quick way to look at your data! This shows how to load a histology image of a mouse brain and view it interactively from each plane (coronal, transverse, and sagittal).\n",
    "\n",
    "You need to run the second cell to download the data from the GitHub release. "
   ]
  },
  {
   "cell_type": "code",
   "execution_count": null,
   "metadata": {},
   "outputs": [],
   "source": [
    "try:\n",
    "    import google.colab\n",
    "    # We're in Colab\n",
    "    !pip install git+https://github.com/landoskape/syd.git\n",
    "\n",
    "except ImportError:\n",
    "    pass"
   ]
  },
  {
   "cell_type": "code",
   "execution_count": null,
   "metadata": {},
   "outputs": [],
   "source": [
    "import os\n",
    "import urllib.request\n",
    "import zipfile\n",
    "\n",
    "def download_if_needed(url: str, local_path: str) -> None:\n",
    "    \"\"\"Downloads the file from the given URL if it doesn't already exist.\"\"\"\n",
    "    if not os.path.exists(local_path):\n",
    "        print(f\"Downloading {url} to {local_path}...\")\n",
    "        urllib.request.urlretrieve(url, local_path)\n",
    "    else:\n",
    "        print(f\"Zip file already exists at {local_path}\")\n",
    "\n",
    "def extract_if_needed(local_path: str, extract_dir: str) -> None:\n",
    "    \"\"\"Extracts the zip file to the given directory if not already extracted.\"\"\"\n",
    "    # Check for any existing file in the zip that indicates extraction was done\n",
    "    with zipfile.ZipFile(local_path, 'r') as zip_ref:\n",
    "        # We'll check only the first file in the archive\n",
    "        first_file = zip_ref.namelist()[0]\n",
    "        first_file_path = os.path.join(extract_dir, first_file)\n",
    "        if not os.path.exists(first_file_path):\n",
    "            print(f\"Extracting {local_path} to {extract_dir}...\")\n",
    "            zip_ref.extractall(extract_dir)\n",
    "        else:\n",
    "            print(f\"Contents already extracted to {extract_dir}\")\n",
    "\n",
    "# Example usage\n",
    "zip_url = \"https://github.com/landoskape/syd/releases/download/mousebrain-data/mousebrain.zip\"\n",
    "local_path = \"images.zip\"\n",
    "download_if_needed(zip_url, local_path)\n",
    "extract_if_needed(local_path, \".\")"
   ]
  },
  {
   "cell_type": "code",
   "execution_count": null,
   "metadata": {},
   "outputs": [],
   "source": [
    "import numpy as np\n",
    "from matplotlib import pyplot as plt\n",
    "import tifffile\n",
    "from syd import Viewer\n",
    "\n",
    "class HistologyViewer(Viewer):\n",
    "    planes: list[str] = [\"coronal\", \"transverse\", \"sagittal\"]\n",
    "\n",
    "    def __init__(self):\n",
    "        self.add_selection(\"plane\", value=self.planes[0], options=self.planes)\n",
    "        self.add_integer(\"slice\", value=0, min=0, max=1)\n",
    "        self.add_float(\"vmax\", value=1.0, min=0, max=1.0, step=0.001)\n",
    "        self.add_float(\"redgreen_balance\", value=0.5, min=0, max=1.0)\n",
    "        self.on_change(\"plane\", self.update_slice_limits)\n",
    "        self.setup_volume()\n",
    "\n",
    "    def setup_volume(self):\n",
    "        red = np.array(tifffile.imread(\"./mousebrain/histology-viewer-red.tif\"))\n",
    "        green = np.array(tifffile.imread(\"./mousebrain/histology-viewer-green.tif\"))\n",
    "        blue = np.zeros_like(red)\n",
    "        self._current_volume = np.stack([red, green, blue], axis=-1)\n",
    "        self.update_slice_limits(self.state)        \n",
    "\n",
    "    def update_slice_limits(self, state):\n",
    "        dim = self.planes.index(state[\"plane\"])\n",
    "        self.update_integer(\"slice\", max=self._current_volume.shape[dim] - 1)\n",
    "\n",
    "    def get_slice(self, state):\n",
    "        slice = state[\"slice\"]\n",
    "        dim = self.planes.index(state[\"plane\"])\n",
    "        c_slice = np.take(self._current_volume, slice, axis=dim)\n",
    "        if dim == 2:\n",
    "            c_slice = np.transpose(c_slice, (1, 0, 2))\n",
    "        if dim == 1:\n",
    "            c_slice = c_slice[::-1]\n",
    "        c_slice = c_slice / np.max(c_slice)\n",
    "        c_slice[:, :, 0] = c_slice[:, :, 0] * state[\"redgreen_balance\"]\n",
    "        c_slice[:, :, 1] = c_slice[:, :, 1] * (1 - state[\"redgreen_balance\"])\n",
    "        return c_slice\n",
    "\n",
    "    def plot(self, state):\n",
    "        vmax = state[\"vmax\"]\n",
    "        c_slice = self.get_slice(state)\n",
    "        c_slice = np.clip(c_slice / vmax, 0, 1)\n",
    "        fig, ax = plt.subplots(1, 1)\n",
    "        ax.imshow(c_slice, aspect=\"equal\")\n",
    "        return fig\n",
    "\n",
    "viewer = HistologyViewer()\n",
    "viewer.show()"
   ]
  }
 ],
 "metadata": {
  "kernelspec": {
   "display_name": "syd",
   "language": "python",
   "name": "python3"
  },
  "language_info": {
   "codemirror_mode": {
    "name": "ipython",
    "version": 3
   },
   "file_extension": ".py",
   "mimetype": "text/x-python",
   "name": "python",
   "nbconvert_exporter": "python",
   "pygments_lexer": "ipython3",
   "version": "3.11.11"
  }
 },
 "nbformat": 4,
 "nbformat_minor": 2
}

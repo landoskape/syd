{
 "cells": [
  {
   "cell_type": "markdown",
   "metadata": {},
   "source": [
    "# Interactive Syd Viewer (with Seaborn)\n",
    "This example shows you how to use Syd to create interactive plots that use Seaborn. \n",
    "\n",
    "### Main concepts: \n",
    "1. Syd is based on matplotlib, so the backend of matplotlib determines the interactivity of your viewer! In general this means you should use %matplotlib widget in your notebook to turn on the standard matplotlib interactivity widgets. \n",
    "\n",
    "2. Seaborn is also built on top of matplotlib, so it has the same interactivity functionality -- if you are expecting to have a seaborn-style interactive plot and aren't getting it, turn on %matplotlib widget in your notebook. \n",
    "\n",
    "3. Just so you know - any plotting package built on top of matplotlib is useable in Syd! The only rule is that the plot function needs to return a matplotlib figure object. \n",
    "\n",
    "4. Interactivity with the plot itself doesn't really work in the web browser view. This is because it isn't implemented - not because it isn't possible. So, if you feel like you really need that, please raise an issue on the github to let us know we should work on it!"
   ]
  },
  {
   "cell_type": "code",
   "execution_count": 1,
   "metadata": {},
   "outputs": [],
   "source": [
    "try:\n",
    "    import google.colab\n",
    "    # We're in Colab\n",
    "    !pip install git+https://github.com/landoskape/syd.git\n",
    "\n",
    "except ImportError:\n",
    "    pass"
   ]
  },
  {
   "cell_type": "code",
   "execution_count": null,
   "metadata": {},
   "outputs": [],
   "source": [
    "%matplotlib widget\n",
    "\n",
    "import numpy as np\n",
    "from matplotlib import pyplot as plt\n",
    "import seaborn as sns\n",
    "from syd import Viewer\n",
    "sns.set_theme(style=\"ticks\")\n",
    "\n",
    "rs = np.random.RandomState(11)\n",
    "\n",
    "# Viewer definition\n",
    "class SeabornViewer(Viewer):\n",
    "    def __init__(self):\n",
    "        self.add_float(\"gamma\", value=1.0, min=0.1, max=5.0)\n",
    "        self.add_float(\"slope\", value=0.0, min=-5.0, max=5.0)\n",
    "        self.add_selection(\"color\", value=\"red\", options=[\"red\", \"blue\", \"green\", \"black\"])\n",
    "        self.add_selection(\"plot_type\", value=\"jointplot\", options=[\"jointplot\", \"scatterplot\", \"histplot\", \"kdeplot\"])\n",
    "        self.add_button(\"save\", label=\"Save Figure\", callback=self.save_figure, replot=False)\n",
    "\n",
    "    def save_figure(self, state):\n",
    "        self.figure.savefig(\"seaborn_figure.png\")\n",
    "\n",
    "    def plot(self, state):\n",
    "        x = rs.gamma(state[\"gamma\"], size=1000)\n",
    "        y = state[\"slope\"] * x + rs.normal(size=1000)\n",
    "\n",
    "        if state[\"plot_type\"] == \"jointplot\":\n",
    "            grid = sns.jointplot(x=x, y=y, kind=\"hex\", color=state[\"color\"])\n",
    "            fig = grid._figure\n",
    "\n",
    "        else:\n",
    "            fig, ax = plt.subplots(figsize=(6, 4), layout=\"constrained\")\n",
    "\n",
    "            if state[\"plot_type\"] == \"scatterplot\":\n",
    "                sns.scatterplot(x=x, y=y, color=state[\"color\"], ax=ax)\n",
    "\n",
    "            elif state[\"plot_type\"] == \"histplot\":\n",
    "                sns.histplot(x=x, y=y, color=state[\"color\"], ax=ax)\n",
    "\n",
    "            elif state[\"plot_type\"] == \"kdeplot\":\n",
    "                sns.kdeplot(x=x, y=y, color=state[\"color\"], ax=ax)\n",
    "\n",
    "            else:\n",
    "                raise ValueError(f\"Invalid plot type: {state['plot_type']}\")\n",
    "        \n",
    "        return fig\n",
    "\n",
    "viewer = SeabornViewer()\n",
    "viewer.show()"
   ]
  }
 ],
 "metadata": {
  "kernelspec": {
   "display_name": "syd",
   "language": "python",
   "name": "python3"
  },
  "language_info": {
   "codemirror_mode": {
    "name": "ipython",
    "version": 3
   },
   "file_extension": ".py",
   "mimetype": "text/x-python",
   "name": "python",
   "nbconvert_exporter": "python",
   "pygments_lexer": "ipython3",
   "version": "3.11.11"
  }
 },
 "nbformat": 4,
 "nbformat_minor": 2
}

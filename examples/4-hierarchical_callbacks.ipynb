{
 "cells": [
  {
   "cell_type": "markdown",
   "metadata": {},
   "source": [
    "This example showcases best practices for loading data into a Syd Viewer. \n",
    "\n",
    "It gives three examples for different contexts related to how much data is loaded and how long it takes to load. "
   ]
  },
  {
   "cell_type": "code",
   "execution_count": 1,
   "metadata": {},
   "outputs": [],
   "source": [
    "try:\n",
    "    import google.colab\n",
    "    # We're in Colab\n",
    "    !pip install git+https://github.com/landoskape/syd.git\n",
    "\n",
    "except ImportError:\n",
    "    pass"
   ]
  },
  {
   "cell_type": "code",
   "execution_count": 1,
   "metadata": {},
   "outputs": [],
   "source": [
    "%matplotlib inline\n",
    "\n",
    "import numpy as np\n",
    "import matplotlib.pyplot as plt\n",
    "from syd import Viewer"
   ]
  },
  {
   "cell_type": "markdown",
   "metadata": {},
   "source": [
    "Suppose your dataset is composed of electrophysiology recordings from 3 mice, where each mouse has a different number of sesssions, and each session has a different number of neurons. You want to build a viewer to choose the mouse, then choose the session, and then view a particular neuron from within that session. But the viewer will break if you try to index to session 5 for mouse 2 but mouse 2 only has 4 sessions! How can you structure callbacks that make sure your syd parameters are always valid?\n",
    "\n",
    "\n",
    "To show how to do this, we'll start with a toy example as described above."
   ]
  },
  {
   "cell_type": "code",
   "execution_count": 2,
   "metadata": {},
   "outputs": [],
   "source": [
    "# Let's create a toy dataset to create syd viewers from.\n",
    "num_mice = 3\n",
    "num_sessions_per_mouse = [3, 4, 5]\n",
    "num_neurons_per_session = []\n",
    "num_timepoints = 1000\n",
    "for imouse in range(num_mice):\n",
    "    c_num_sessions = num_sessions_per_mouse[imouse]\n",
    "    c_num_neurons = np.random.randint(100, 1000, c_num_sessions)\n",
    "    num_neurons_per_session.append(c_num_neurons)\n",
    "\n",
    "# Create a toy dataset\n",
    "mice_names = [f\"Mouse {imouse}\" for imouse in range(num_mice)]\n",
    "session_data = {}\n",
    "for imouse, mouse_name in enumerate(mice_names):\n",
    "    c_num_sessions = num_sessions_per_mouse[imouse]\n",
    "    c_session_data = []\n",
    "    for isession in range(c_num_sessions):\n",
    "        c_num_neurons = num_neurons_per_session[imouse][isession]\n",
    "        c_session_data.append(np.random.randn(c_num_neurons, num_timepoints))\n",
    "    session_data[mouse_name] = c_session_data\n",
    "\n",
    "# Build our loading methods\n",
    "def get_num_sessions(mouse_name):\n",
    "    return len(session_data[mouse_name])\n",
    "\n",
    "def get_num_neurons(mouse_name, session_index):\n",
    "    return len(session_data[mouse_name][session_index])\n",
    "\n",
    "def get_data(mouse_name, session_index, neuron_index):\n",
    "    return session_data[mouse_name][session_index][neuron_index]\n",
    "\n",
    "# And make a simple plotting method.\n",
    "def plot_the_data(data):\n",
    "    fig = plt.figure()\n",
    "    ax = fig.add_subplot(111)\n",
    "    ax.plot(data)\n",
    "    return fig"
   ]
  },
  {
   "cell_type": "code",
   "execution_count": null,
   "metadata": {},
   "outputs": [],
   "source": [
    "class MouseViewer(Viewer):\n",
    "    def __init__(self, mice_names):\n",
    "        self.mice_names = mice_names\n",
    "\n",
    "        self.add_selection(\"mouse\", options=list(mice_names))\n",
    "\n",
    "        # We don't know how many sessions or neurons to pick from yet!\n",
    "        self.add_integer(\"session\", min=0, max=1)\n",
    "        self.add_integer(\"neuron\", min=0, max=1)\n",
    "        \n",
    "        # Any time the mouse changes, update the sessions to pick from\n",
    "        self.on_change(\"mouse\", self.update_mouse)\n",
    "\n",
    "        # Any time the session changes, update the neurons to pick from\n",
    "        self.on_change(\"session\", self.update_session)\n",
    "\n",
    "        # Since we built callbacks for setting the range of the session\n",
    "        # and neuron parameters, we can use them here!\n",
    "        # To get the state, we can use self.state, which is the current\n",
    "        # state of the viewer (in the init function, it'll just be the\n",
    "        # default value for each parameter you've added already).\n",
    "        self.update_mouse(self.state)\n",
    "\n",
    "    def update_mouse(self, state):\n",
    "        # Pseudo code for getting the number of sessions for a given mouse\n",
    "        num_sessions = get_num_sessions(state[\"mouse\"])\n",
    "\n",
    "        # Now we update the number of sessions to pick from\n",
    "        self.update_integer(\"session\", max=num_sessions - 1)\n",
    "\n",
    "        # Now we need to update the neurons to choose from ....\n",
    "        # But! Updating the session parameter might trigger a change to the\n",
    "        # session value. So, instead of using the state dictionary that was\n",
    "        # passed into the function, we can get the ~NEW~ state dictionary like this:\n",
    "        new_state = self.state\n",
    "\n",
    "        # Then perform the session update callback!\n",
    "        self.update_session(new_state)\n",
    "\n",
    "    def update_session(self, state):\n",
    "        num_neurons = get_num_neurons(state[\"mouse\"], state[\"session\"])\n",
    "\n",
    "        # Now we update the number of neurons to pick from\n",
    "        self.update_integer(\"neuron\", max=num_neurons - 1)\n",
    "\n",
    "    def plot(self, state):\n",
    "        data = get_data(state[\"mouse\"], state[\"session\"], state[\"neuron\"])\n",
    "        fig = plot_the_data(data)\n",
    "        return fig\n",
    "\n",
    "# Now we can create a viewer and deploy it\n",
    "viewer = MouseViewer(mice_names)\n",
    "viewer.show()\n",
    "\n",
    "# To see how the callbacks work --- try increasing session or neuron to the maximum value and then changing the mouse.\n",
    "# The maximum value of the slider will update, which will either change the session/neuron value to the maximum permitted,\n",
    "# or it will leave the value but change the slider range so it'll be at a lower relative position within the slider."
   ]
  }
 ],
 "metadata": {
  "kernelspec": {
   "display_name": "syd",
   "language": "python",
   "name": "python3"
  },
  "language_info": {
   "codemirror_mode": {
    "name": "ipython",
    "version": 3
   },
   "file_extension": ".py",
   "mimetype": "text/x-python",
   "name": "python",
   "nbconvert_exporter": "python",
   "pygments_lexer": "ipython3",
   "version": "3.11.11"
  }
 },
 "nbformat": 4,
 "nbformat_minor": 2
}

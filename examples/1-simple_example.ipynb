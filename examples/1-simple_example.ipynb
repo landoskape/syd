{
 "cells": [
  {
   "cell_type": "code",
   "execution_count": 1,
   "metadata": {},
   "outputs": [],
   "source": [
    "try:\n",
    "    import google.colab\n",
    "    # We're in Colab\n",
    "    !pip install git+https://github.com/landoskape/syd.git\n",
    "\n",
    "except ImportError:\n",
    "    pass"
   ]
  },
  {
   "cell_type": "code",
   "execution_count": 2,
   "metadata": {},
   "outputs": [],
   "source": [
    "%matplotlib widget\n",
    "\n",
    "# These are the imports we need for the viewer in this example\n",
    "import numpy as np\n",
    "import matplotlib.pyplot as plt\n",
    "from syd import make_viewer"
   ]
  },
  {
   "cell_type": "code",
   "execution_count": 3,
   "metadata": {},
   "outputs": [],
   "source": [
    "# Start by making a simple plotting function\n",
    "# The function needs to take two arguments: viewer and state. \n",
    "# The viewer is just the viewer object that manages the interactive components.\n",
    "# The state is a dictionary of all the current values of the parameters. \n",
    "# Use these to make your plot. \n",
    "def plot(viewer, state):\n",
    "    # Here's a simple plot function that plots a sine wave\n",
    "    fig = plt.figure()\n",
    "    t = np.linspace(0, 2 * np.pi, 1000)\n",
    "    ax = plt.gca()\n",
    "    ax.plot(t, state[\"amplitude\"] * np.sin(state[\"frequency\"] * t), color=state[\"color\"])\n",
    "    return fig"
   ]
  },
  {
   "cell_type": "code",
   "execution_count": 4,
   "metadata": {},
   "outputs": [],
   "source": [
    "# Next, make a viewer. We can use the \"make_viewer\" function to create one. \n",
    "# You can either pass in a plot function, or use set_plot() to set one later. \n",
    "# Here, we'll pass in the plot function. \n",
    "viewer = make_viewer(plot)"
   ]
  },
  {
   "cell_type": "code",
   "execution_count": 5,
   "metadata": {},
   "outputs": [],
   "source": [
    "# Now, we need to add parameters to the viewer. \n",
    "# The way this works is that you use the add_{parameter_type} function to add a parameter to the viewer. \n",
    "# Each parameter requires a name (e.g. \"frequency\", \"amplitude\", etc).\n",
    "# Each parameter (except for the button) has a value that you need to set when adding it. \n",
    "# Most parameters have additional required arguments like min_value, max_value, options, etc.\n",
    "viewer.add_float(\"amplitude\", value=1.0, min_value=0.1, max_value=2.0)\n",
    "viewer.add_float(\"frequency\", value=1.0, min_value=0.1, max_value=5.0)\n",
    "viewer.add_selection(\"color\", value=\"red\", options=[\"red\", \"blue\", \"green\", \"black\"])"
   ]
  },
  {
   "cell_type": "code",
   "execution_count": 6,
   "metadata": {},
   "outputs": [
    {
     "data": {
      "application/vnd.jupyter.widget-view+json": {
       "model_id": "7b42ab88673a4c4fb6f89447f63c2751",
       "version_major": 2,
       "version_minor": 0
      },
      "text/plain": [
       "HBox(children=(VBox(children=(VBox(children=(HTML(value='<b>Parameters</b>'), FloatSlider(value=1.0, descripti…"
      ]
     },
     "metadata": {},
     "output_type": "display_data"
    },
    {
     "data": {
      "text/plain": [
       "<syd.interactive_viewer.InteractiveViewer at 0x14e464b1010>"
      ]
     },
     "execution_count": 6,
     "metadata": {},
     "output_type": "execute_result"
    }
   ],
   "source": [
    "# Now, we can deploy the viewer!\n",
    "# You simply use the deploy method to deploy the viewer. Easy. \n",
    "# It's not necessary, but you can set continuous=True to make the viewer update continuously.\n",
    "# (It's not a good idea to do this for slower plotting functions, but it's great when your plot is fast!)\n",
    "viewer.deploy(continuous=True)"
   ]
  }
 ],
 "metadata": {
  "kernelspec": {
   "display_name": "syd",
   "language": "python",
   "name": "python3"
  },
  "language_info": {
   "codemirror_mode": {
    "name": "ipython",
    "version": 3
   },
   "file_extension": ".py",
   "mimetype": "text/x-python",
   "name": "python",
   "nbconvert_exporter": "python",
   "pygments_lexer": "ipython3",
   "version": "3.11.11"
  }
 },
 "nbformat": 4,
 "nbformat_minor": 2
}

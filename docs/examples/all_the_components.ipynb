{
 "cells": [
  {
   "cell_type": "markdown",
   "metadata": {},
   "source": [
    "# Developer Utility Notebook for Documentation\n",
    "This notebook is simply used to generate a viewer with all the components using instructive names."
   ]
  },
  {
   "cell_type": "code",
   "execution_count": 1,
   "metadata": {},
   "outputs": [],
   "source": [
    "import numpy as np\n",
    "import matplotlib.pyplot as plt\n",
    "from syd import make_viewer"
   ]
  },
  {
   "cell_type": "code",
   "execution_count": null,
   "metadata": {},
   "outputs": [],
   "source": [
    "viewer = make_viewer()\n",
    "\n",
    "viewer.add_text(\"I'm a text input\", value=\"Hello, world!\")\n",
    "viewer.add_boolean(\"I'm a checkbox\", value=True)\n",
    "viewer.add_selection(\"I'm a dropdown menu\", value=\"current value\", options=[\"current value\", \"other value\"])\n",
    "viewer.add_multiple_selection(\"I'm a multi-select menu\", value=[\"value 1\", \"value 2\"], options=[\"value 1\", \"value 2\", \"value 3\"])\n",
    "viewer.add_integer(\"I'm an integer\", value=1, min=0, max=5)\n",
    "viewer.add_float(\"I'm a float\", value=1.0, min=0.1, max=5.0)\n",
    "viewer.add_integer_range(\"I'm an integer range\", value=(1, 5), min=0, max=5)\n",
    "viewer.add_float_range(\"I'm a float range\", value=(1.0, 5.0), min=0.1, max=5.0)\n",
    "viewer.add_unbounded_integer(\"I'm an unbounded integer\", value=1)\n",
    "viewer.add_unbounded_float(\"I'm an unbounded float\", value=1.0)\n",
    "viewer.add_button(\"I'm a button\", label=\"Click me!\", callback=lambda: print(\"Button clicked!\"))\n",
    "\n",
    "plot = lambda state: plt.figure()\n",
    "\n",
    "viewer.set_plot(plot)\n",
    "viewer.show()"
   ]
  }
 ],
 "metadata": {
  "kernelspec": {
   "display_name": "syd",
   "language": "python",
   "name": "python3"
  },
  "language_info": {
   "codemirror_mode": {
    "name": "ipython",
    "version": 3
   },
   "file_extension": ".py",
   "mimetype": "text/x-python",
   "name": "python",
   "nbconvert_exporter": "python",
   "pygments_lexer": "ipython3",
   "version": "3.11.11"
  }
 },
 "nbformat": 4,
 "nbformat_minor": 2
}

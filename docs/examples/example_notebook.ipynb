{
 "cells": [
  {
   "cell_type": "code",
   "execution_count": 1,
   "metadata": {},
   "outputs": [
    {
     "data": {
      "application/vnd.jupyter.widget-view+json": {
       "model_id": "039f69c247d14edb884c70ffb7078340",
       "version_major": 2,
       "version_minor": 0
      },
      "text/plain": [
       "HBox(children=(VBox(children=(VBox(children=(HTML(value='<b>Parameters</b>'), FloatSlider(value=1.0, descripti…"
      ]
     },
     "metadata": {},
     "output_type": "display_data"
    },
    {
     "data": {
      "text/plain": [
       "<syd.notebook_deploy.deployer.NotebookDeployment at 0x11a739790>"
      ]
     },
     "execution_count": 1,
     "metadata": {},
     "output_type": "execute_result"
    },
    {
     "name": "stdout",
     "output_type": "stream",
     "text": [
      "hi\n",
      "Handling: randomize_colors\n",
      "Handling: <syd.notebook_deploy.widgets.ButtonParameterWidget object at 0x11a769f90>\n",
      "hi\n",
      "done\n"
     ]
    },
    {
     "name": "stdout",
     "output_type": "stream",
     "text": [
      "hi\n",
      "Handling: randomize_colors\n",
      "Handling: <syd.notebook_deploy.widgets.ButtonParameterWidget object at 0x11a769f90>\n",
      "hi\n",
      "done\n"
     ]
    },
    {
     "name": "stdout",
     "output_type": "stream",
     "text": [
      "hi\n",
      "Handling: randomize_colors\n",
      "Handling: <syd.notebook_deploy.widgets.ButtonParameterWidget object at 0x11a769f90>\n",
      "hi\n",
      "done\n"
     ]
    }
   ],
   "source": [
    "import random\n",
    "import numpy as np\n",
    "import matplotlib.pyplot as plt\n",
    "from syd import InteractiveViewer\n",
    "\n",
    "class SimpleWaveformViewer(InteractiveViewer):\n",
    "    \"\"\"A simple example viewer that shows an interactive waveform.\"\"\"\n",
    "    \n",
    "    def __init__(self):\n",
    "        # Add parameters\n",
    "        self.add_float(\"frequency\", value=1.0, min_value=0.1, max_value=5.0)\n",
    "        self.add_float(\"sine_amplitude\", value=1.0, min_value=0.1, max_value=2.0)\n",
    "        self.add_float(\"square_amplitude\", value=1.0, min_value=0.1, max_value=2.0)\n",
    "        self.add_float(\"sawtooth_amplitude\", value=1.0, min_value=0.1, max_value=2.0)\n",
    "        self.add_selection(\"sine_color\", value=\"red\", options=[\"red\", \"blue\", \"green\"])\n",
    "        self.add_selection(\"square_color\", value=\"blue\", options=[\"red\", \"blue\", \"green\"])\n",
    "        self.add_selection(\"sawtooth_color\", value=\"green\", options=[\"red\", \"blue\", \"green\"])\n",
    "        self.add_multiple_selection(\"waveform_type\", value=[\"sine\", \"square\", \"sawtooth\"], options=[\"sine\", \"square\", \"sawtooth\"])\n",
    "        self.add_boolean(\"show_legend\", value=True)\n",
    "        self.add_boolean(\"show_grid\", value=True)\n",
    "\n",
    "        # Add button\n",
    "        self.add_button(\"randomize_colors\", label=\"Randomize Colors\", callback=self.randomize_colors)\n",
    "\n",
    "    def randomize_colors(self, state):\n",
    "        \"\"\"Update the waveform type based on the frequency.\"\"\"\n",
    "        colors = [\"red\", \"blue\", \"green\"]\n",
    "        random.shuffle(colors)\n",
    "        self.update_selection(\"sine_color\", value=colors[0])\n",
    "        self.update_selection(\"square_color\", value=colors[1])\n",
    "        self.update_selection(\"sawtooth_color\", value=colors[2])\n",
    "\n",
    "        print(\"hi\")\n",
    "\n",
    "    def plot(self, state):\n",
    "        \"\"\"Plot the waveform based on current parameters.\"\"\"\n",
    "        t = np.linspace(0, 2*np.pi, 1000)\n",
    "\n",
    "        ymin = float(\"inf\")\n",
    "        ymax = float(\"-inf\")\n",
    "\n",
    "        fig, ax = plt.subplots()\n",
    "        if \"sine\" in state[\"waveform_type\"]:    \n",
    "            ax.plot(t, state[\"sine_amplitude\"] * np.sin(state[\"frequency\"] * t), color=state[\"sine_color\"], label=\"Sine\")\n",
    "            ymin = min(ymin, -state[\"sine_amplitude\"])\n",
    "            ymax = max(ymax, state[\"sine_amplitude\"])\n",
    "        if \"square\" in state[\"waveform_type\"]:\n",
    "            ax.plot(t, state[\"square_amplitude\"] * np.sign(np.sin(state[\"frequency\"] * t)), color=state[\"square_color\"], label=\"Square\")\n",
    "            ymin = min(ymin, -state[\"square_amplitude\"])\n",
    "            ymax = max(ymax, state[\"square_amplitude\"])\n",
    "        if \"sawtooth\" in state[\"waveform_type\"]:\n",
    "            ax.plot(t, state[\"sawtooth_amplitude\"] * (t % (2*np.pi/state[\"frequency\"])) * (state[\"frequency\"] / 2 / np.pi), color=state[\"sawtooth_color\"], label=\"Sawtooth\")\n",
    "            ymin = min(ymin, -state[\"sawtooth_amplitude\"])\n",
    "            ymax = max(ymax, state[\"sawtooth_amplitude\"])\n",
    "\n",
    "        ax.set_xlabel(\"Time\")\n",
    "        ax.set_ylabel(\"Amplitude\")\n",
    "        ax.grid(state[\"show_grid\"])\n",
    "        ax.set_ylim(ymin*1.1, ymax*1.1)\n",
    "        if state[\"show_legend\"]:\n",
    "            ax.legend()\n",
    "        return fig\n",
    "    \n",
    "viewer = SimpleWaveformViewer()\n",
    "viewer.deploy(continuous_update=True)\n"
   ]
  },
  {
   "cell_type": "code",
   "execution_count": null,
   "metadata": {},
   "outputs": [],
   "source": []
  }
 ],
 "metadata": {
  "kernelspec": {
   "display_name": "syd",
   "language": "python",
   "name": "python3"
  },
  "language_info": {
   "codemirror_mode": {
    "name": "ipython",
    "version": 3
   },
   "file_extension": ".py",
   "mimetype": "text/x-python",
   "name": "python",
   "nbconvert_exporter": "python",
   "pygments_lexer": "ipython3",
   "version": "3.11.11"
  }
 },
 "nbformat": 4,
 "nbformat_minor": 2
}
